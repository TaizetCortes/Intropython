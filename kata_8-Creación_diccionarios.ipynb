{
 "cells": [
  {
   "cell_type": "markdown",
   "metadata": {},
   "source": [
    "# Crear y modificar un diccionario"
   ]
  },
  {
   "cell_type": "code",
   "execution_count": 1,
   "metadata": {},
   "outputs": [],
   "source": [
    "# Crea un diccionario llamado planeta con los datos propuestos\n",
    "planeta = {\n",
    "  'nombre': 'Marte',\n",
    "    'Lunas': 2  \n",
    "}"
   ]
  },
  {
   "cell_type": "code",
   "execution_count": 3,
   "metadata": {},
   "outputs": [
    {
     "name": "stdout",
     "output_type": "stream",
     "text": [
      "Marte has 2 Lunas\n"
     ]
    }
   ],
   "source": [
    "# Muestra el nombre del planeta y el número de Lunas que tiene\n",
    "print(f'{planeta[\"nombre\"]} has {planeta[\"Lunas\"]} Lunas')"
   ]
  },
  {
   "cell_type": "code",
   "execution_count": 13,
   "metadata": {},
   "outputs": [],
   "source": [
    "# Agrega la clave circunferencia con los datos proporcionados\n",
    "planeta['circunferencia (km)'] = {\n",
    "    'polar': 6752,\n",
    "    'equatorial': 6792\n",
    "}"
   ]
  },
  {
   "cell_type": "code",
   "execution_count": 17,
   "metadata": {},
   "outputs": [
    {
     "name": "stdout",
     "output_type": "stream",
     "text": [
      "Marte tiene una circunferencia polar 6752\n"
     ]
    }
   ],
   "source": [
    "# Imprime el nombtre del planeta con su circunferencia polar\n",
    "print(f'{planeta[\"nombre\"]} tiene una circunferencia polar {planeta[\"circunferencia (km)\"][\"polar\"]}')"
   ]
  },
  {
   "cell_type": "markdown",
   "metadata": {},
   "source": [
    "# Calculo de valores"
   ]
  },
  {
   "cell_type": "code",
   "execution_count": 9,
   "metadata": {},
   "outputs": [],
   "source": [
    "planeta_Lunas = {\n",
    "    'mercury': 0,\n",
    "    'venus': 0,\n",
    "    'earth': 1,\n",
    "    'mars': 2,\n",
    "    'jupiter': 79,\n",
    "    'saturn': 82,\n",
    "    'uranus': 27,\n",
    "    'neptune': 14,\n",
    "    'pluto': 5,\n",
    "    'haumea': 2,\n",
    "    'makemake': 1,\n",
    "    'eris': 1\n",
    "}"
   ]
  },
  {
   "cell_type": "code",
   "execution_count": 10,
   "metadata": {},
   "outputs": [],
   "source": [
    "Lunas = planeta_Lunas.values()\n",
    "planetas =len(planeta_Lunas.keys())"
   ]
  },
  {
   "cell_type": "code",
   "execution_count": 18,
   "metadata": {},
   "outputs": [
    {
     "name": "stdout",
     "output_type": "stream",
     "text": [
      "0.0\n",
      "0.0\n",
      "0.08333333333333333\n",
      "0.25\n",
      "6.833333333333333\n",
      "13.666666666666666\n",
      "15.916666666666666\n",
      "17.083333333333332\n",
      "17.5\n",
      "17.666666666666668\n",
      "17.75\n",
      "17.833333333333332\n"
     ]
    }
   ],
   "source": [
    "total_Lunas = 0\n",
    "for Luna in Lunas:\n",
    "    total_Lunas = total_Lunas + Luna\n",
    "    \n",
    "    average = total_Lunas / planetas\n",
    "    print(average)"
   ]
  }
 ],
 "metadata": {
  "interpreter": {
   "hash": "fc344138fff8399fa06d7103e30d0fe21880c1a541a55d85c8e39b1f2260b420"
  },
  "kernelspec": {
   "display_name": "Python 3.10.2 64-bit",
   "language": "python",
   "name": "python3"
  },
  "language_info": {
   "codemirror_mode": {
    "name": "ipython",
    "version": 3
   },
   "file_extension": ".py",
   "mimetype": "text/x-python",
   "name": "python",
   "nbconvert_exporter": "python",
   "pygments_lexer": "ipython3",
   "version": "3.10.2"
  },
  "orig_nbformat": 4
 },
 "nbformat": 4,
 "nbformat_minor": 2
}
