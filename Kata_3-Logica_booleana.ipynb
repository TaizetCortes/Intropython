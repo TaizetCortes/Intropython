{
 "cells": [
  {
   "cell_type": "markdown",
   "metadata": {},
   "source": [
    "# Velocidad superior a 25 km/s debe emitir una alerta\n",
    "\n",
    "# Vlelocidad menor de 25 km/s y mayor o igual a 20 km/s emitir alerta de luces en el cielo"
   ]
  },
  {
   "cell_type": "code",
   "execution_count": 1,
   "metadata": {},
   "outputs": [
    {
     "name": "stdout",
     "output_type": "stream",
     "text": [
      "¡Alerta! Un asteroide viajando muy veloz se aproxima a la Tierra\n"
     ]
    }
   ],
   "source": [
    "asteroide = 49\n",
    "if asteroide > 25:\n",
    "    print(\"¡Alerta! Un asteroide viajando muy veloz se aproxima a la Tierra\")\n",
    "else:\n",
    "    print(\"¡Todo tranquilo\")"
   ]
  },
  {
   "cell_type": "code",
   "execution_count": 2,
   "metadata": {},
   "outputs": [
    {
     "name": "stdout",
     "output_type": "stream",
     "text": [
      "Todo tranquilo\n"
     ]
    }
   ],
   "source": [
    "asteroide = 19\n",
    "if asteroide > 20:\n",
    "    print(\"¡Se aproxima un asteroide que no es peligroso y puede mostrar luces en el cielo\")\n",
    "else:\n",
    "    print(\"Todo tranquilo\") "
   ]
  },
  {
   "cell_type": "markdown",
   "metadata": {},
   "source": [
    "## Uso de operadores and y or"
   ]
  },
  {
   "cell_type": "code",
   "execution_count": 3,
   "metadata": {},
   "outputs": [
    {
     "name": "stdout",
     "output_type": "stream",
     "text": [
      "¡Hay una luz en el cielo!\n"
     ]
    }
   ],
   "source": [
    "velocidad_asteroide = 25\n",
    "tamaño_asteroide = 40\n",
    "if velocidad_asteroide > 25 and tamaño_asteroide >25:\n",
    "    print(\"¡Alerta! Un asteriode muy peligroso viene hacia la Tierra\")\n",
    "elif velocidad_asteroide >= 20:\n",
    "    print(\"¡Hay una luz en el cielo!\")\n",
    "elif tamaño_asteroide < 25:\n",
    "    print(\"Todo tranquilo\")\n",
    "else:\n",
    "    print(\"Todo tranquilo\")"
   ]
  }
 ],
 "metadata": {
  "interpreter": {
   "hash": "fc344138fff8399fa06d7103e30d0fe21880c1a541a55d85c8e39b1f2260b420"
  },
  "kernelspec": {
   "display_name": "Python 3.10.2 64-bit",
   "language": "python",
   "name": "python3"
  },
  "language_info": {
   "codemirror_mode": {
    "name": "ipython",
    "version": 3
   },
   "file_extension": ".py",
   "mimetype": "text/x-python",
   "name": "python",
   "nbconvert_exporter": "python",
   "pygments_lexer": "ipython3",
   "version": "3.10.2"
  },
  "orig_nbformat": 4
 },
 "nbformat": 4,
 "nbformat_minor": 2
}
