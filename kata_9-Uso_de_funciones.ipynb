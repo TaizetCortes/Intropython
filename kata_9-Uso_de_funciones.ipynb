{
 "cells": [
  {
   "cell_type": "markdown",
   "metadata": {},
   "source": [
    "# Trabajar con argumentos en funciones"
   ]
  },
  {
   "cell_type": "code",
   "execution_count": 5,
   "metadata": {},
   "outputs": [],
   "source": [
    "# Función para leer 3 tanques de combustible y muestre el promedio\n",
    "def generar_reporte (principal_tanque, externo_tanque, hidrogeno_tanque):\n",
    "    total_promedio = (principal_tanque + externo_tanque + hidrogeno_tanque) / 3\n",
    "    return f\"\"\"Fuel reporte:\n",
    "    Total promedio: {total_promedio}%\n",
    "    Principal tanque: {principal_tanque}%\n",
    "    Externo tanque: {externo_tanque}\n",
    "    Hidrogeno tanque: {hidrogeno_tanque}\n",
    "    \"\"\""
   ]
  },
  {
   "cell_type": "code",
   "execution_count": 2,
   "metadata": {},
   "outputs": [
    {
     "name": "stdout",
     "output_type": "stream",
     "text": [
      "Fuel reporte:\n",
      "    Total promedio: 78.33333333333333%\n",
      "    Principal tanque: 80%\n",
      "    Externo tanque: 70\n",
      "    Hidrogeno tanque: 85\n",
      "    \n"
     ]
    }
   ],
   "source": [
    "# Lamamos a la función que genera el reporte print(función(tanque1, tanque2, tanque3))\n",
    "print(generar_reporte(80, 70, 85))"
   ]
  },
  {
   "cell_type": "code",
   "execution_count": 4,
   "metadata": {},
   "outputs": [
    {
     "data": {
      "text/plain": [
       "82.0"
      ]
     },
     "execution_count": 4,
     "metadata": {},
     "output_type": "execute_result"
    }
   ],
   "source": [
    "# Función promedio\n",
    "def promedio(values):\n",
    "    total = sum(values)\n",
    "    number_of_items = len(values)\n",
    "    return total / number_of_items\n",
    "\n",
    "# Probar la función de promedio con una lista de números enteros \n",
    "promedio([80, 85, 81])"
   ]
  },
  {
   "cell_type": "code",
   "execution_count": 12,
   "metadata": {},
   "outputs": [],
   "source": [
    "# Actualiza la función\n",
    "def generar_reporte (principal_tanque, externo_tanque, hidrogeno_tanque):\n",
    "    return f\"\"\"Fuel reporte:\n",
    "    Total promedio: {promedio([principal_tanque, externo_tanque, hidrogeno_tanque])}%\n",
    "    Principal tanque: {principal_tanque}%\n",
    "    Externo tanque: {externo_tanque}%\n",
    "    Hidrogeno tanque: {hidrogeno_tanque}%\n",
    "    \"\"\"\n",
    "    \n",
    "    # Llame a la función de actualizacion nuevamente con diferentes valores\n",
    "    print(generar_reporte(88, 76, 70))"
   ]
  },
  {
   "cell_type": "markdown",
   "metadata": {},
   "source": [
    "# Trabajar con argumentos de palabras clave en funciones"
   ]
  },
  {
   "cell_type": "code",
   "execution_count": 13,
   "metadata": {},
   "outputs": [
    {
     "name": "stdout",
     "output_type": "stream",
     "text": [
      "\n",
      "    Mission to Luna\n",
      "    Total travel time:  65 minutes\n",
      "    Total fuel left:  500000 gallons\n",
      "    \n"
     ]
    }
   ],
   "source": [
    "# Función con un informe preciso de la misión\n",
    "\n",
    "def mission_report(pre_launch_time, flight_time, destination, externo_tanque, principal_tanque):\n",
    "    return f\"\"\"\n",
    "    Mission to {destination}\n",
    "    Total travel time:  {pre_launch_time + flight_time} minutes\n",
    "    Total fuel left:  {externo_tanque + principal_tanque} gallons\n",
    "    \"\"\"\n",
    "print(mission_report(14, 51, \"Luna\", 200000, 300000))"
   ]
  },
  {
   "cell_type": "code",
   "execution_count": 22,
   "metadata": {},
   "outputs": [
    {
     "name": "stdout",
     "output_type": "stream",
     "text": [
      "\n",
      "    Mission to Luna\n",
      "    Total travel time: 500000\n",
      "    \n"
     ]
    }
   ],
   "source": [
    "# Escribe tu nueva función\n",
    "\n",
    "def mission_report(destination, *minutes, **fuel_reservoirs):\n",
    "    return f\"\"\"\n",
    "    Mission to {destination}\n",
    "    Total travel time: {sum(fuel_reservoirs.values())}\n",
    "    \"\"\"\n",
    "    \n",
    "print(mission_report(\"Luna\", 10, 15, 51, principal=300000, externo=200000))"
   ]
  }
 ],
 "metadata": {
  "interpreter": {
   "hash": "fc344138fff8399fa06d7103e30d0fe21880c1a541a55d85c8e39b1f2260b420"
  },
  "kernelspec": {
   "display_name": "Python 3.10.2 64-bit",
   "language": "python",
   "name": "python3"
  },
  "language_info": {
   "codemirror_mode": {
    "name": "ipython",
    "version": 3
   },
   "file_extension": ".py",
   "mimetype": "text/x-python",
   "name": "python",
   "nbconvert_exporter": "python",
   "pygments_lexer": "ipython3",
   "version": "3.10.2"
  },
  "orig_nbformat": 4
 },
 "nbformat": 4,
 "nbformat_minor": 2
}
